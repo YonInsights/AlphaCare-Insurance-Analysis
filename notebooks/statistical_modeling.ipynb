{
 "cells": [
  {
   "cell_type": "code",
   "execution_count": 5,
   "metadata": {},
   "outputs": [],
   "source": [
    "import os\n",
    "import sys\n",
    "# Add the scripts folder to the Python path\n",
    "sys.path.append(os.path.abspath(\"../scripts\"))"
   ]
  },
  {
   "cell_type": "code",
   "execution_count": 6,
   "metadata": {},
   "outputs": [],
   "source": [
    "# Import required libraries\n",
    "import pandas as pd\n",
    "import numpy as np\n",
    "import matplotlib.pyplot as plt\n",
    "import seaborn as sns\n",
    "from sklearn.model_selection import train_test_split\n",
    "from sklearn.preprocessing import StandardScaler, OneHotEncoder\n",
    "from sklearn.compose import ColumnTransformer\n",
    "from sklearn.pipeline import Pipeline\n",
    "\n",
    "# Import our custom modules\n",
    "from statistical_model import InsuranceModel, prepare_insurance_data, evaluate_model\n",
    "from insurance_model import initialize_model\n",
    "from data_preparation import prepare_data, split_features_target"
   ]
  },
  {
   "cell_type": "code",
   "execution_count": 7,
   "metadata": {},
   "outputs": [
    {
     "name": "stdout",
     "output_type": "stream",
     "text": [
      "Data loaded successfully.\n",
      "   UnderwrittenCoverID  PolicyID TransactionMonth  IsVATRegistered  \\\n",
      "0               145249     12827       2015-03-01             True   \n",
      "1               145249     12827       2015-05-01             True   \n",
      "2               145249     12827       2015-07-01             True   \n",
      "3               145255     12827       2015-05-01             True   \n",
      "4               145255     12827       2015-07-01             True   \n",
      "\n",
      "  Citizenship          LegalType Title Language                 Bank  \\\n",
      "0              Close Corporation    Mr  English  First National Bank   \n",
      "1              Close Corporation    Mr  English  First National Bank   \n",
      "2              Close Corporation    Mr  English  First National Bank   \n",
      "3              Close Corporation    Mr  English  First National Bank   \n",
      "4              Close Corporation    Mr  English  First National Bank   \n",
      "\n",
      "       AccountType  ...                    ExcessSelected CoverCategory  \\\n",
      "0  Current account  ...             Mobility - Windscreen    Windscreen   \n",
      "1  Current account  ...             Mobility - Windscreen    Windscreen   \n",
      "2  Current account  ...             Mobility - Windscreen    Windscreen   \n",
      "3  Current account  ...  Mobility - Metered Taxis - R2000    Own damage   \n",
      "4  Current account  ...  Mobility - Metered Taxis - R2000    Own damage   \n",
      "\n",
      "    CoverType            CoverGroup              Section  \\\n",
      "0  Windscreen  Comprehensive - Taxi  Motor Comprehensive   \n",
      "1  Windscreen  Comprehensive - Taxi  Motor Comprehensive   \n",
      "2  Windscreen  Comprehensive - Taxi  Motor Comprehensive   \n",
      "3  Own Damage  Comprehensive - Taxi  Motor Comprehensive   \n",
      "4  Own Damage  Comprehensive - Taxi  Motor Comprehensive   \n",
      "\n",
      "                           Product StatutoryClass StatutoryRiskType  \\\n",
      "0  Mobility Metered Taxis: Monthly     Commercial     IFRS Constant   \n",
      "1  Mobility Metered Taxis: Monthly     Commercial     IFRS Constant   \n",
      "2  Mobility Metered Taxis: Monthly     Commercial     IFRS Constant   \n",
      "3  Mobility Metered Taxis: Monthly     Commercial     IFRS Constant   \n",
      "4  Mobility Metered Taxis: Monthly     Commercial     IFRS Constant   \n",
      "\n",
      "   TotalPremium TotalClaims  \n",
      "0     21.929825         0.0  \n",
      "1     21.929825         0.0  \n",
      "2      0.000000         0.0  \n",
      "3    512.848070         0.0  \n",
      "4      0.000000         0.0  \n",
      "\n",
      "[5 rows x 52 columns]\n"
     ]
    }
   ],
   "source": [
    "# Load the data\n",
    "try:\n",
    "    data = pd.read_csv('data/cleaned_data.csv')\n",
    "    print(\"Data loaded successfully.\")\n",
    "    print(data.head())\n",
    "except FileNotFoundError:\n",
    "    print(\"Error: File not found. Please ensure 'cleaned_data.csv' exists in the 'data' directory.\")\n",
    "except Exception as e:\n",
    "    print(f\"Error while loading data: {e}\")\n",
    "    raise\n",
    "\n"
   ]
  },
  {
   "cell_type": "code",
   "execution_count": 8,
   "metadata": {},
   "outputs": [
    {
     "name": "stdout",
     "output_type": "stream",
     "text": [
      "Target Variable: TotalClaims\n",
      "Number of Feature Columns: 51\n",
      "Feature Columns: ['UnderwrittenCoverID', 'PolicyID', 'TransactionMonth', 'IsVATRegistered', 'Citizenship', 'LegalType', 'Title', 'Language', 'Bank', 'AccountType', 'MaritalStatus', 'Gender', 'Country', 'Province', 'PostalCode', 'MainCrestaZone', 'SubCrestaZone', 'ItemType', 'mmcode', 'VehicleType', 'RegistrationYear', 'make', 'Model', 'Cylinders', 'cubiccapacity', 'kilowatts', 'bodytype', 'NumberOfDoors', 'VehicleIntroDate', 'CustomValueEstimate', 'AlarmImmobiliser', 'TrackingDevice', 'CapitalOutstanding', 'NewVehicle', 'WrittenOff', 'Rebuilt', 'Converted', 'CrossBorder', 'NumberOfVehiclesInFleet', 'SumInsured', 'TermFrequency', 'CalculatedPremiumPerTerm', 'ExcessSelected', 'CoverCategory', 'CoverType', 'CoverGroup', 'Section', 'Product', 'StatutoryClass', 'StatutoryRiskType', 'TotalPremium']\n"
     ]
    }
   ],
   "source": [
    "# Define the target variable and features\n",
    "target_variable = \"TotalClaims\"  # Replace if needed\n",
    "feature_columns = [col for col in data.columns if col != target_variable]\n",
    "\n",
    "# Print feature and target details\n",
    "print(f\"Target Variable: {target_variable}\")\n",
    "print(f\"Number of Feature Columns: {len(feature_columns)}\")\n",
    "print(f\"Feature Columns: {feature_columns}\")\n"
   ]
  },
  {
   "cell_type": "code",
   "execution_count": 9,
   "metadata": {},
   "outputs": [
    {
     "name": "stderr",
     "output_type": "stream",
     "text": [
      "INFO:root:Starting data preparation...\n",
      "INFO:root:Filling missing values in numeric features using the mean.\n",
      "INFO:root:Filling missing values in categorical features using the mode.\n",
      "INFO:root:Applying transformations to numeric and categorical features.\n",
      "d:\\Kifya_training\\Week 3\\Week 3\\AlphaCare-Insurance-Analysis\\venv\\Lib\\site-packages\\sklearn\\impute\\_base.py:635: UserWarning: Skipping features without any observed values: ['NumberOfVehiclesInFleet']. At least one non-missing value is needed for imputation with strategy='mean'.\n",
      "  warnings.warn(\n",
      "INFO:root:Data preparation complete.\n"
     ]
    },
    {
     "name": "stdout",
     "output_type": "stream",
     "text": [
      "Data preparation completed successfully.\n",
      "Processed Features Shape: (1000098, 897)\n",
      "Target Shape: (1000098,)\n",
      "Feature Names: ['num__UnderwrittenCoverID', 'num__PolicyID', 'num__PostalCode', 'num__mmcode', 'num__RegistrationYear', 'num__Cylinders', 'num__cubiccapacity', 'num__kilowatts', 'num__NumberOfDoors', 'num__CustomValueEstimate', 'num__CapitalOutstanding', 'num__SumInsured', 'num__CalculatedPremiumPerTerm', 'num__TotalPremium', 'cat__TransactionMonth_2013-10-01', 'cat__TransactionMonth_2013-11-01', 'cat__TransactionMonth_2013-12-01', 'cat__TransactionMonth_2014-01-01', 'cat__TransactionMonth_2014-02-01', 'cat__TransactionMonth_2014-03-01', 'cat__TransactionMonth_2014-04-01', 'cat__TransactionMonth_2014-05-01', 'cat__TransactionMonth_2014-06-01', 'cat__TransactionMonth_2014-07-01', 'cat__TransactionMonth_2014-08-01', 'cat__TransactionMonth_2014-09-01', 'cat__TransactionMonth_2014-10-01', 'cat__TransactionMonth_2014-11-01', 'cat__TransactionMonth_2014-12-01', 'cat__TransactionMonth_2015-01-01', 'cat__TransactionMonth_2015-02-01', 'cat__TransactionMonth_2015-03-01', 'cat__TransactionMonth_2015-04-01', 'cat__TransactionMonth_2015-05-01', 'cat__TransactionMonth_2015-06-01', 'cat__TransactionMonth_2015-07-01', 'cat__TransactionMonth_2015-08-01', 'cat__IsVATRegistered_False', 'cat__IsVATRegistered_True', 'cat__Citizenship_  ', 'cat__Citizenship_AF', 'cat__Citizenship_ZA', 'cat__Citizenship_ZW', 'cat__LegalType_Close Corporation', 'cat__LegalType_Individual', 'cat__LegalType_Partnership', 'cat__LegalType_Private company', 'cat__LegalType_Public company', 'cat__LegalType_Sole proprieter', 'cat__Title_Dr', 'cat__Title_Miss', 'cat__Title_Mr', 'cat__Title_Mrs', 'cat__Title_Ms', 'cat__Language_English', 'cat__Bank_ABSA Bank', 'cat__Bank_Capitec Bank', 'cat__Bank_First National Bank', 'cat__Bank_FirstRand Bank', 'cat__Bank_Investec Bank', 'cat__Bank_Ithala Bank', 'cat__Bank_Mercantile Lisbon Bank', 'cat__Bank_Nedbank', 'cat__Bank_Not specified', 'cat__Bank_Old Mutual', 'cat__Bank_RMB Private Bank', 'cat__Bank_Standard Bank', 'cat__AccountType_Current account', 'cat__AccountType_Not specified', 'cat__AccountType_Savings account', 'cat__AccountType_Transmission account', 'cat__MaritalStatus_Married', 'cat__MaritalStatus_Not specified', 'cat__MaritalStatus_Single', 'cat__Gender_Female', 'cat__Gender_Male', 'cat__Gender_Not specified', 'cat__Country_South Africa', 'cat__Province_Eastern Cape', 'cat__Province_Free State', 'cat__Province_Gauteng', 'cat__Province_KwaZulu-Natal', 'cat__Province_Limpopo', 'cat__Province_Mpumalanga', 'cat__Province_North West', 'cat__Province_Northern Cape', 'cat__Province_Western Cape', 'cat__MainCrestaZone_Cape Province', 'cat__MainCrestaZone_Cape Province (Cape Town)', 'cat__MainCrestaZone_Cape Province (East and North of Cape Town)', 'cat__MainCrestaZone_Ciskei, Cape Mid 1', 'cat__MainCrestaZone_East London', 'cat__MainCrestaZone_Johannesburg', 'cat__MainCrestaZone_Karoo 1 (Northeast of Cape Town)', 'cat__MainCrestaZone_Langkloof, Coast 2, Coast 1', 'cat__MainCrestaZone_Natal', 'cat__MainCrestaZone_Natal (Durban)', 'cat__MainCrestaZone_Oranje Free State', 'cat__MainCrestaZone_Port Elizabeth', 'cat__MainCrestaZone_Rand East', 'cat__MainCrestaZone_Tembu 2, Cape Mid 2, Cape Mid West, Tembu 1', 'cat__MainCrestaZone_Transvaal (Pretoria)', 'cat__MainCrestaZone_Transvaal (all except Pretoria)', 'cat__SubCrestaZone_Bloemfontein', 'cat__SubCrestaZone_Bushveld', 'cat__SubCrestaZone_Cape Mid 1', 'cat__SubCrestaZone_Cape Mid 2', 'cat__SubCrestaZone_Cape Mid West', 'cat__SubCrestaZone_Cape Town', 'cat__SubCrestaZone_Ciskei', 'cat__SubCrestaZone_Coast 1', 'cat__SubCrestaZone_Coast 2', 'cat__SubCrestaZone_Drakensberg', 'cat__SubCrestaZone_Durban', 'cat__SubCrestaZone_East London', 'cat__SubCrestaZone_East and North of', 'cat__SubCrestaZone_Herbert', 'cat__SubCrestaZone_Highveld', 'cat__SubCrestaZone_Johannesburg', 'cat__SubCrestaZone_Kalahari', 'cat__SubCrestaZone_Karoo 1', 'cat__SubCrestaZone_Karoo 2', 'cat__SubCrestaZone_Langkloof', 'cat__SubCrestaZone_Namakwa', 'cat__SubCrestaZone_Natal 1', 'cat__SubCrestaZone_Natal 2', 'cat__SubCrestaZone_Natal 3', 'cat__SubCrestaZone_Natal Cape', 'cat__SubCrestaZone_North Coast', 'cat__SubCrestaZone_Northeast of CT', 'cat__SubCrestaZone_OFS North 1 and', 'cat__SubCrestaZone_Pondo', 'cat__SubCrestaZone_Port Elizabeth', 'cat__SubCrestaZone_Pretoria', 'cat__SubCrestaZone_Rand East', 'cat__SubCrestaZone_Rand West', 'cat__SubCrestaZone_South Coast', 'cat__SubCrestaZone_Tembu 1', 'cat__SubCrestaZone_Tembu 2', 'cat__SubCrestaZone_Transvaal East', 'cat__SubCrestaZone_Transvaal Mid West', 'cat__SubCrestaZone_Transvaal North', 'cat__SubCrestaZone_Transvaal North West', 'cat__SubCrestaZone_Transvaal South', 'cat__SubCrestaZone_Transvaal South East', 'cat__SubCrestaZone_Transvaal South West', 'cat__SubCrestaZone_Vaalhartz', 'cat__SubCrestaZone_Zululand', 'cat__ItemType_Mobility - Motor', 'cat__VehicleType_Bus', 'cat__VehicleType_Heavy Commercial', 'cat__VehicleType_Light Commercial', 'cat__VehicleType_Medium Commercial', 'cat__VehicleType_Not specified', 'cat__VehicleType_Passenger Vehicle', 'cat__make_AUDI', 'cat__make_B.A.W', 'cat__make_BMW', 'cat__make_C.A.M', 'cat__make_CHERY                              ', 'cat__make_CHEVROLET', 'cat__make_CITROEN                            ', 'cat__make_CMC', 'cat__make_DAIHATSU', 'cat__make_FIAT', 'cat__make_FORD', 'cat__make_FORD                               ', 'cat__make_FOTON', 'cat__make_GEELY                              ', 'cat__make_GOLDEN JOURNEY', 'cat__make_HINO', 'cat__make_HONDA', 'cat__make_HUMMER', 'cat__make_HYUNDAI', 'cat__make_IVECO', 'cat__make_JINBEI', 'cat__make_JINBEI                             ', 'cat__make_JMC                                ', 'cat__make_KIA', 'cat__make_LEXUS', 'cat__make_MAHINDRA', 'cat__make_MARCOPOLO', 'cat__make_MAZDA', 'cat__make_MERCEDES-BENZ', 'cat__make_MERCEDES-BENZ                      ', 'cat__make_MITSUBISHI', 'cat__make_NISSAN', 'cat__make_NISSAN/DATSUN                      ', 'cat__make_Not specified', 'cat__make_OPEL', 'cat__make_PEUGEOT', 'cat__make_POLARSUN', 'cat__make_PROTON', 'cat__make_RENAULT', 'cat__make_SAIC', 'cat__make_SCANIA', 'cat__make_SUZUKI                             ', 'cat__make_TATA', 'cat__make_TOYOTA', 'cat__make_TOYOTA                             ', 'cat__make_VOLKSWAGEN', 'cat__make_VOLVO', 'cat__Model_0305 M BAR B/S CCL', 'cat__Model_115 VITO 2.2 CDI CREW CAB F/C P/V', 'cat__Model_13-206 F/C C/C', 'cat__Model_1400 CHAMP (B01) P/U S/C', 'cat__Model_3 1.6 DYNAMIC', 'cat__Model_3 2.0 INDIVIDUAL', 'cat__Model_316i (E36)', 'cat__Model_316i (F30)', 'cat__Model_316i A/T (F30)', 'cat__Model_318iS (E36)', 'cat__Model_320d (E90)', 'cat__Model_320d A/T (E90)', 'cat__Model_320d START (E90)', 'cat__Model_320i (E36)', 'cat__Model_320i (E90)', 'cat__Model_320i (F30)', 'cat__Model_320i A/T (E90)', 'cat__Model_320i START (E90)', 'cat__Model_323 130 STING', 'cat__Model_325i (E46)F/L', 'cat__Model_328i (F30)', 'cat__Model_330i (E90)', 'cat__Model_35 S13V 7M F/C P/V', 'cat__Model_35 S13V 8 F/C P/V', 'cat__Model_35 S13V 9M F/C P/V', 'cat__Model_35S12V10 F/C P/V', 'cat__Model_35S12V12 F/C P/V', 'cat__Model_35S12V8 F/C P/V', 'cat__Model_35S15C CAMPER P/V', 'cat__Model_40 C11CC F/C C/C', 'cat__Model_5 2.0L ACTIVE', 'cat__Model_50 C13 F/C C/C', 'cat__Model_50 C13D F/C D/C', 'cat__Model_50 C13V 15M F/C P/V', 'cat__Model_50 C15V 15 F/C P/V', 'cat__Model_50C15 F/C C/C', 'cat__Model_50C15V12 F/C P/V', 'cat__Model_50C15V15 F/C P/V', 'cat__Model_523i A/T (E60)', 'cat__Model_525i (E60)', 'cat__Model_626 200 e', 'cat__Model_A4 1.8T AMBITION (B8)', 'cat__Model_A4 1.8T AMBITION MULTITRONIC (B8)', 'cat__Model_A4 1.8T ATTRACTION (B8)', 'cat__Model_A4 1.8T S AVANT', 'cat__Model_A4 1.8T S AVANT MULTITRONIC', 'cat__Model_A4 2.0 (B7)', 'cat__Model_A4 2.0 TDI AMBITION (B8)', 'cat__Model_A4 2.0 TDI AMBITION 125KW (B8)', 'cat__Model_A4 2.0 TDI S  MULTITRONIC', 'cat__Model_A4 2.0 TDI S 105kW', 'cat__Model_A4 2.0 TDI SE MULTITRONIC', 'cat__Model_A4 3.0 TDI AVANT QUAT TIP (B7)', 'cat__Model_A4 3.0 TDI QUATTRO (B7)', 'cat__Model_A5 SPRTBACK 2.0 TDI MULTI', 'cat__Model_ACCENT 1.5 CSi', 'cat__Model_ACCENT 1.5 RSi', 'cat__Model_ACCORD 2.0i A/T', 'cat__Model_ALMERA 1.5 ACENTA', 'cat__Model_ALMERA 1.6 COMFORT (H01)', 'cat__Model_ALMERA 1.6 COMFORT (H14/25)', 'cat__Model_ALMERA 1.6 LUXURY (H02)', 'cat__Model_ALMERA 1.6 LUXURY (H15/H26)', 'cat__Model_ALMERA 1.6 LUXURY A/T (H16/27)', 'cat__Model_AMANDLA 2.2', 'cat__Model_ATEGO 1217/48 F/C C/C', 'cat__Model_AURIS 1.6 XS', 'cat__Model_AVANZA  1.3 S', 'cat__Model_AVANZA 1.3 S', 'cat__Model_AVANZA 1.3 S F/C P/V', 'cat__Model_AVANZA 1.3 SX', 'cat__Model_AVANZA 1.5 SX', 'cat__Model_AVANZA 1.5 SX A/T', 'cat__Model_AVANZA 1.5 TX', 'cat__Model_AVENSIS 2.0 ADVANCED', 'cat__Model_AVEO 1.5 LS 5Dr A/T', 'cat__Model_BALLADE 180 E A/T', 'cat__Model_BANTAM 1.3i A/C P/U S/C', 'cat__Model_BOXER L2H1 2.2 HDi M F/C P/V', 'cat__Model_BOXER L4H2 2.2 HDi XLH4 F/C P/V', 'cat__Model_BOXER L4H2 3.0 HDi XLH4 F/C P/V', 'cat__Model_C180', 'cat__Model_C180 A/T', 'cat__Model_C180 BE COUPE', 'cat__Model_C180 BE COUPE A/T', 'cat__Model_C180 CGI BE CLASSIC', 'cat__Model_C180 CGI BE CLASSIC A/T', 'cat__Model_C180 ESTATE', 'cat__Model_C180 ESTATE A/T', 'cat__Model_C180K BE AVANTGARDE', 'cat__Model_C180K CLASSIC', 'cat__Model_C180K CLASSIC A/T', 'cat__Model_C200 BE CLASSIC', 'cat__Model_C200 BE CLASSIC A/T', 'cat__Model_C200 BE ESTATE CLASSIC', 'cat__Model_C200 CDi CLASSIC  A/T', 'cat__Model_C200 CDi ESTATE CLASSIC  A/T', 'cat__Model_C200 CGI BE CLASSIC', 'cat__Model_C200 CGI BE CLASSIC A/T', 'cat__Model_C200K CLASSIC', 'cat__Model_C200K CLASSIC A/T', 'cat__Model_C200K ESTATE CLASSIC', 'cat__Model_C220 CDi CLASSIC', 'cat__Model_C230 CLASSIC A/T', 'cat__Model_C350 CDI ELEGANCE A/T', 'cat__Model_C350 CDi BE ELEGANCE A/T', 'cat__Model_CADDY KOMBI 1.9 TDi', 'cat__Model_CADDY MAXI 2.0TDi (81KW) CREWBUS P/V', 'cat__Model_CADDY MAXI CREW BUS 1.9TDi', 'cat__Model_CAMRY 200 Si A/T', 'cat__Model_CAMRY 220 GX A/T', 'cat__Model_CANTER 2.4P 3.0 TONNE F/C C/C', 'cat__Model_CARAVELLE 2.6i A/C P/S', 'cat__Model_CARRYING 2.8 TDi 1.6 TON LUX SWB D/', 'cat__Model_CERATO 1.6 5DR', 'cat__Model_CERATO 1.6 5Dr', 'cat__Model_CERATO 1.6 A/T', 'cat__Model_CITI CHICO 1.6i', 'cat__Model_CITI.COM 1.4i', 'cat__Model_CIVIC 1.8 COMFORT A/T', 'cat__Model_CONDOR 1800', 'cat__Model_CONDOR 1800 ESTATE', 'cat__Model_CONDOR 2000i ESTATE', 'cat__Model_CONDOR 2000i ESTATE TE', 'cat__Model_CONDOR 2400i 4X4 TX', 'cat__Model_CONDOR 2400i ESTATE', 'cat__Model_CONDOR 2400i ESTATE TE', 'cat__Model_CONDOR 3000D ESTATE', 'cat__Model_CONDOR 3000D TE', 'cat__Model_CONQUEST 130', 'cat__Model_CONQUEST 160i RS', 'cat__Model_CONQUEST 160i SPORT', 'cat__Model_COROLLA 1.3 ADVANCED', 'cat__Model_COROLLA 1.3 ESTEEM', 'cat__Model_COROLLA 1.3 IMPACT', 'cat__Model_COROLLA 1.3 PROFESSIONAL', 'cat__Model_COROLLA 1.4 ADVANCED', 'cat__Model_COROLLA 1.4 PROFESSIONAL', 'cat__Model_COROLLA 1.4D PRESTIGE', 'cat__Model_COROLLA 1.6 ADVANCED', 'cat__Model_COROLLA 1.6 ADVANCED A/T', 'cat__Model_COROLLA 1.6 ESTEEM', 'cat__Model_COROLLA 1.6 PRESTIGE CVT', 'cat__Model_COROLLA 1.6 PROFESSIONAL', 'cat__Model_COROLLA 1.6 SPRINTER', 'cat__Model_COROLLA 130', 'cat__Model_COROLLA 130 GLE', 'cat__Model_COROLLA 140i', 'cat__Model_COROLLA 140i GLE', 'cat__Model_COROLLA 140i GLS', 'cat__Model_COROLLA 160i GL', 'cat__Model_COROLLA 160i GLE', 'cat__Model_COROLLA 160i GLE A/T', 'cat__Model_COROLLA 2.0 D-4D ADVANCED', 'cat__Model_COROLLA QUEST 1.6', 'cat__Model_COROLLA RXi', 'cat__Model_CORSA 1.4iS A/C P/S', 'cat__Model_CRAFTER 35 120 F/C P/V', 'cat__Model_CRAFTER 35 2.0 BiTDi 120KW F/C P/V', 'cat__Model_CRAFTER 35 2.0 TDi 80KW F/C P/V', 'cat__Model_CRAFTER 35 80 F/C P/V', 'cat__Model_CRAFTER 50 2.0 BiTDi HR 120KW F/C P/V', 'cat__Model_CRAFTER 50 2.0 BiTDi HR120KW XLWB F/C P/V', 'cat__Model_CRAFTER 50 2.0 TDi HR 80KW F/C P/V', 'cat__Model_CRAFTER 50 2.0 TDi HR 80KW XLWB F/C P/V', 'cat__Model_CRAFTER 50 HR 120 F/C P/V', 'cat__Model_CRAFTER 50 HR 80 F/C P/V', 'cat__Model_CRAFTER 50 HR120 XLWB F/C P/V', 'cat__Model_DUCATO 2.3 JTD F/C C/C', 'cat__Model_DUCATO 2.3 JTD F/C P/V', 'cat__Model_DUCATO 2.3 JTD HR F/C P/V', 'cat__Model_DUCATO 2.3 JTD VETRATO', 'cat__Model_DUCATO CH2 F/C P/V', 'cat__Model_DUCATO MH2 C8 F/C P/V', 'cat__Model_E 200', 'cat__Model_E 200 CGI BE', 'cat__Model_E 200 CGI BE ESTATE', 'cat__Model_E 200K', 'cat__Model_E 240', 'cat__Model_ELANTRA 1.6 GLS', 'cat__Model_ELANTRA 1.8 GLS/EXECUTIVE A/T', 'cat__Model_EMGRAND EC 7 1.8 EXEC', 'cat__Model_ERTIGA 1.4 GA', 'cat__Model_ERTIGA 1.4 GLX', 'cat__Model_ETIOS 1.5 Xi', 'cat__Model_ETIOS 1.5 Xi 5Dr', 'cat__Model_ETIOS 1.5 Xs', 'cat__Model_ETIOS 1.5 Xs 5Dr', 'cat__Model_ETIOS CROSS 1.5 Xs 5Dr', 'cat__Model_ETUDE 160iSE SPORT 5dr', 'cat__Model_F94 MARCO POLO BUS B/S B/S', 'cat__Model_FIESTA 1.6 SPORT 5Dr', 'cat__Model_FORTUNER 3.0D-4D R/B A/T', 'cat__Model_GEN 2 1.6 GL', 'cat__Model_GETZ 1.4', 'cat__Model_GETZ 1.6', 'cat__Model_GOLF 2.0 FSI SPORTLINE', 'cat__Model_GOLF 4 1.6 COMFORTLINE', 'cat__Model_GOLF 4 1.9 TDi ESTATE TRENDLINE', 'cat__Model_GOLF GTI 2.0T FSI', 'cat__Model_GRAN MOVE A/T', 'cat__Model_GRAND LIVINA 1.6 ACENTA', 'cat__Model_H-1 2.4 GL MULTICAB 6 SEAT', 'cat__Model_H-1 2.5 CRDI WAGON A/T', 'cat__Model_H-1 2.5 CRDi A/C F/C P/V A/T', 'cat__Model_H-1 2.5 CRDi F/C P/V', 'cat__Model_H-1 GLS 2.4 CVVT WAGON', 'cat__Model_H100 P/U C/C', 'cat__Model_H3 ADVENTURE A/T', 'cat__Model_H3 V8 LUXURY A/T', 'cat__Model_HAISE 2.2i', 'cat__Model_HAISE H2 2.4i 15 SEAT', 'cat__Model_HAISE H2 2.4i 16 SEAT', 'cat__Model_HILUX 2.5 D-4D S P/U S/C', 'cat__Model_HiACE 1800 F/C P/V', 'cat__Model_HiACE 2200 F/C P/V', 'cat__Model_HiACE COMMUTER 10', 'cat__Model_HiACE COMMUTER 16', 'cat__Model_HiACE SIYAYA', 'cat__Model_HiACE SUPER 10', 'cat__Model_HiACE SUPER 10 F/Lift', 'cat__Model_HiACE SUPER 16 F/Lift', 'cat__Model_HiACE SUPER T F/Lift', 'cat__Model_IBHUBEZI 2.2i', 'cat__Model_IKON 1.6 AMBIENTE', 'cat__Model_INDICA 1.4 DLS', 'cat__Model_INGWE 2.2', 'cat__Model_INKUNZI 2.2 TAXI', 'cat__Model_INNOVA 2.7 VVTi 7 SEAT', 'cat__Model_INTERSTAR 2.5 dCi SR F/C P/V', 'cat__Model_INYATHI', 'cat__Model_INYATHI 2.2i  HIGH ROOF', 'cat__Model_INYATHI GOLDEN DRAGON', 'cat__Model_IS 250 A/T', 'cat__Model_JAZZ 1.5i', 'cat__Model_JETTA 1.6 COMFORTLINE', 'cat__Model_JETTA 2.0 COMFORTLINE', 'cat__Model_JETTA 4 1.6 COMFORTLINE', 'cat__Model_JETTA CLi 2.0 EXEC', 'cat__Model_L/CRUISER FJ 4.0 V6 CRUISER', 'cat__Model_LANCER 1.6 GL', 'cat__Model_LANCER 1.6 GLX', 'cat__Model_LIVINA 1.6 ACENTA', 'cat__Model_LIVINA 1.6 VISIA X-GEAR', 'cat__Model_LP 713 S B/S B/S', 'cat__Model_LPO 918 TC B/S B/S', 'cat__Model_LPT 713 S F/C C/C', 'cat__Model_LPT 813 EX2 F/C C/C', 'cat__Model_LT35 2.5TDi H/ROOF F/C P/V', 'cat__Model_LT35 2.8TDi S/ROOF F/C P/V', 'cat__Model_LT46 2.5TDi H/ROOF F/C P/V', 'cat__Model_LT46 2.8TDi H/ROOF F/C P/V', 'cat__Model_MAKOYA 2.4i 16S', 'cat__Model_MARATHON 16s', 'cat__Model_MAXUS 2.5TD 16 SEAT', 'cat__Model_MICRA 1.4 VISIA 5Dr (D62/73)', 'cat__Model_MICRA 1.5 TEKNA 5DR (D85)', 'cat__Model_MICROBUS 2.3 P/S', 'cat__Model_MICROBUS 2.6i P/S A/C', 'cat__Model_MICROBUS EXCLUSIVE 2.6', 'cat__Model_ML 320 CDI A/T', 'cat__Model_NAVARA 2.5 dCi XE 4X4 P/U D/C', 'cat__Model_NDLOVU 2.4i 16 Seats', 'cat__Model_NP200 1.5 DCi  A/C SAFETY PACK P/U S/C', 'cat__Model_NP200 1.6  A/C SAFETY PACK P/U S/C', 'cat__Model_NV350 2.5 16 SEAT IMPENDULO', 'cat__Model_NV350 2.5i NARROW F/C P/V', 'cat__Model_NV350 2.5i WIDE F/C P/V', 'cat__Model_Not specified', 'cat__Model_OPTRA 1.6 L', 'cat__Model_OPTRA 1.6 LS', 'cat__Model_P 94LA 4X2 NA T/T C/C', 'cat__Model_P-10 2.0TCI 15s', 'cat__Model_P230 DB MSZ F/C C/C', 'cat__Model_POLO 1.4 COMFORTLINE 5DR', 'cat__Model_POLO 1.4 TRENDLINE 5DR', 'cat__Model_POLO 1.6 COMFORTLINE', 'cat__Model_POLO 1.6 COMFORTLINE 5DR', 'cat__Model_POLO 1.6 COMFORTLINE TIP 5DR', 'cat__Model_POLO 1.9 TDi HIGHLINE', 'cat__Model_POLO CLASSIC 1.4', 'cat__Model_POLO CLASSIC 1.6 Lux', 'cat__Model_POLO VIVO 1.4 TRENDLINE 5Dr', 'cat__Model_POLO VIVO 1.6 5Dr', 'cat__Model_PREGIO 12 SEATER', 'cat__Model_PRIMASTAR 1.9 dCi 100 SWB', 'cat__Model_QUANTUM 2.5 D-4D 10 SEAT', 'cat__Model_QUANTUM 2.5 D-4D 14 SEAT', 'cat__Model_QUANTUM 2.5 D-4D CREWCAB F/C P/V', 'cat__Model_QUANTUM 2.5 D-4D SESFIKILE 15s', 'cat__Model_QUANTUM 2.5 D-4D SESFIKILE 16s', 'cat__Model_QUANTUM 2.7 10 SEAT', 'cat__Model_QUANTUM 2.7 14 SEAT', 'cat__Model_QUANTUM 2.7 F/C P/V', 'cat__Model_QUANTUM 2.7 SESFIKILE 14s', 'cat__Model_QUANTUM 2.7 SESFIKILE 15s', 'cat__Model_QUANTUM 2.7 SESFIKILE 16s', 'cat__Model_RANGER 3.2TDCi WILDTRACK A/T P/U D/C', 'cat__Model_RELAY 2.2 L2H1 15 SEAT', 'cat__Model_RELAY 3.0HDi 180 L4H2 19 SEAT', 'cat__Model_RIO 1.4 HIGH 5Dr', 'cat__Model_RunX 140i RT', 'cat__Model_RunX 160i RS', 'cat__Model_S40 2.0', 'cat__Model_S40 T5 A/T', 'cat__Model_S70 T5 A/T', 'cat__Model_SASUKA 2.7i (16 SEAT)', 'cat__Model_SAVVY 1.2 SPORT', 'cat__Model_SCENIC 1.4 AUTHENTIQUE', 'cat__Model_SCENIC 1.9 dCi EXPRESSION', 'cat__Model_SCENIC II AUTHENTIQUE 1.6', 'cat__Model_SCORPIO 2.6 TDi 4X4', 'cat__Model_SENTRA 140', 'cat__Model_SESBUYILE 2.4i 16 SEAT', 'cat__Model_SESBUYILE 2.5 TDi 16 SEAT', 'cat__Model_SESBUYILE 2.7 16 SEAT', 'cat__Model_SHARAN 1.8T', 'cat__Model_SONATA 2.0 GLS', 'cat__Model_SONIC 1.3D LS 5DR', 'cat__Model_SONIC 1.6 LS', 'cat__Model_SONIC 1.6 LS 5DR', 'cat__Model_SPACEGEAR GLX', 'cat__Model_SPECTRON 16s', 'cat__Model_SPRINTER 308 CDI F/C C/C', 'cat__Model_SPRINTER 308 CDI F/C P/V', 'cat__Model_SPRINTER 308D F/C C/C', 'cat__Model_SPRINTER 309 CDI F/C P/V', 'cat__Model_SPRINTER 311 CDi F/C P/V', 'cat__Model_SPRINTER 312D F/C P/V', 'cat__Model_SPRINTER 312D HIGH ROOF F/C P/V', 'cat__Model_SPRINTER 313 CDI F/C D/C', 'cat__Model_SPRINTER 313 CDI HI ROOF F/C P/V', 'cat__Model_SPRINTER 315 CDI F/C C/C', 'cat__Model_SPRINTER 315 CDI F/C D/C', 'cat__Model_SPRINTER 315 CDI F/C P/V', 'cat__Model_SPRINTER 315 CDI HI ROOF F/C P/V', 'cat__Model_SPRINTER 315 CDi LWB HR F/C P/V', 'cat__Model_SPRINTER 319 CDi F/C C/C', 'cat__Model_SPRINTER 319 CDi F/C P/V', 'cat__Model_SPRINTER 412D HIGH ROOF P/V P/V', 'cat__Model_SPRINTER 412D P/V C/C', 'cat__Model_SPRINTER 413 CDI F/C P/V', 'cat__Model_SPRINTER 413 CDI HI-ROOF F/C P/V', 'cat__Model_SPRINTER 413 CDI P/V C/C', 'cat__Model_SPRINTER 416 CDI F/C C/C', 'cat__Model_SPRINTER 416 CDI HI-ROOF F/C P/V', 'cat__Model_SPRINTER 515 CDI XL F/C P/V', 'cat__Model_SPRINTER 515 CDi F/C P/V', 'cat__Model_SPRINTER 515 CDi HI-ROOF F/C P/V', 'cat__Model_SPRINTER 518 CDI D/C F/C C/C', 'cat__Model_SPRINTER 518 CDI F/C C/C', 'cat__Model_SPRINTER 518 CDI F/C P/V', 'cat__Model_SPRINTER 518 CDi XL HI-ROOF F/C P/V', 'cat__Model_SPRINTER 519 CDI F/C C/C', 'cat__Model_SPRINTER 519 CDI F/C P/V', 'cat__Model_SPRINTER 519 CDI XL F/C P/V', 'cat__Model_SPRINTER 519 CDi DC F/C C/C', 'cat__Model_SPRINTER 519 CDi F/C C/C', 'cat__Model_SPRINTER 519 CDi F/C P/V', 'cat__Model_SPRINTER 519 CDi XL F/C P/V', 'cat__Model_STALLION 1800 PANEL VAN F/C P/V', 'cat__Model_STALLION 2000i PANEL VAN F/C P/V', 'cat__Model_SWIFT 1.2 GL A/T', 'cat__Model_T4 2.5 TDi HIGHLINE', 'cat__Model_T5 CARAVELLE 2.0 BiTDi', 'cat__Model_T5 CARAVELLE 2.5TDi 128kw', 'cat__Model_T5 CARAVELLE 3.2 4motion', 'cat__Model_T5 KOMBI 1.9 TDI LWB', 'cat__Model_T5 KOMBI 2.0 TDi LWB (75KW) BASE', 'cat__Model_T5 KOMBI 2.0 TDi LWB 103kw', 'cat__Model_T5 KOMBI 2.5 TDI LWB', 'cat__Model_TAZZ 130', 'cat__Model_TAZZ 130 SPORT', 'cat__Model_TELSTAR GHIA', 'cat__Model_TERRITORY 4.0i GHIA AWD A/T', 'cat__Model_TIIDA 1.6 ACENTA (H33)', 'cat__Model_TIIDA 1.6 ACENTA 5Dr (H36)', 'cat__Model_TIIDA 1.6 VISIA + (H31)', 'cat__Model_TOUAREG 5.0 V10 TDI TIP', 'cat__Model_TOURAN 1.4 TSi HIGHLINE', 'cat__Model_TRAKKER AD410T42H F/C C/C', 'cat__Model_TRANSIT 2.2 TDCi ELWB 114KW F/C C/C', 'cat__Model_TRANSPORTER 2.5 TDi P/U S/C', 'cat__Model_TRANSPORTER T5 2.0 TDi LWB 103 KW F/C P/V', 'cat__Model_TRANSPORTER T5 2.0 TDi LWB 75KW F/C P/V', 'cat__Model_TUCSON 2.0 GLS', 'cat__Model_TURBODAILY 35.10V P/V P/V', 'cat__Model_UG 780 E F/C C/C', 'cat__Model_VAN 2.6iD F/C P/V', 'cat__Model_VENTURE 1800 6+4', 'cat__Model_VENTURE 1800 6+4 New', 'cat__Model_VENTURE 2200 GLE 5+4 New', 'cat__Model_VENTURE 2400D 6+4 New', 'cat__Model_VERSO 1.6 S', 'cat__Model_VERSO 1.8 SX CVT', 'cat__Model_VERSO 160', 'cat__Model_VERSO 180', 'cat__Model_VERSO 180 SX', 'cat__Model_VIEW 2.2 TAXI', 'cat__Model_VITO 112 CDI CREWBUS', 'cat__Model_VITO 115 CDI CREWBUS', 'cat__Model_VITO 116 CDi CREWBUS', 'cat__Model_VOLARE W8 28 SEAT B/S B/S', 'cat__Model_X TRAIL 2.0 4X2 XE (R79/R85)', 'cat__Model_YARIS 1.3 5Dr', 'cat__Model_YARIS T1 3Dr', 'cat__Model_YARIS T1 5Dr', 'cat__Model_YARIS T3 A/C', 'cat__Model_YARIS T3 SPIRIT 5Dr', 'cat__Model_YARIS T3+', 'cat__Model_YARIS ZEN3', 'cat__Model_YARIS ZEN3 ACS', 'cat__bodytype_B/S', 'cat__bodytype_C/C', 'cat__bodytype_C/P', 'cat__bodytype_CCL', 'cat__bodytype_D/C', 'cat__bodytype_D/S', 'cat__bodytype_H/B', 'cat__bodytype_MPV', 'cat__bodytype_Not specified', 'cat__bodytype_P/V', 'cat__bodytype_S/C', 'cat__bodytype_S/D', 'cat__bodytype_S/W', 'cat__bodytype_SUV', 'cat__VehicleIntroDate_1977-10-01 00:00:00', 'cat__VehicleIntroDate_1987-02-01 00:00:00', 'cat__VehicleIntroDate_1987-04-01 00:00:00', 'cat__VehicleIntroDate_1991-10-01 00:00:00', 'cat__VehicleIntroDate_1991-11-01 00:00:00', 'cat__VehicleIntroDate_1992-01-01 00:00:00', 'cat__VehicleIntroDate_1992-03-01 00:00:00', 'cat__VehicleIntroDate_1992-05-01 00:00:00', 'cat__VehicleIntroDate_1992-06-01 00:00:00', 'cat__VehicleIntroDate_1992-10-01 00:00:00', 'cat__VehicleIntroDate_1992-11-01 00:00:00', 'cat__VehicleIntroDate_1993-02-01 00:00:00', 'cat__VehicleIntroDate_1993-04-01 00:00:00', 'cat__VehicleIntroDate_1993-09-01 00:00:00', 'cat__VehicleIntroDate_1993-11-01 00:00:00', 'cat__VehicleIntroDate_1994-03-01 00:00:00', 'cat__VehicleIntroDate_1994-09-01 00:00:00', 'cat__VehicleIntroDate_1994-12-01 00:00:00', 'cat__VehicleIntroDate_1995-07-01 00:00:00', 'cat__VehicleIntroDate_1995-08-01 00:00:00', 'cat__VehicleIntroDate_1995-10-01 00:00:00', 'cat__VehicleIntroDate_1996-05-01 00:00:00', 'cat__VehicleIntroDate_1996-07-01 00:00:00', 'cat__VehicleIntroDate_1996-08-01 00:00:00', 'cat__VehicleIntroDate_1996-10-01 00:00:00', 'cat__VehicleIntroDate_1996-11-01 00:00:00', 'cat__VehicleIntroDate_1997-03-01 00:00:00', 'cat__VehicleIntroDate_1997-09-01 00:00:00', 'cat__VehicleIntroDate_1998-01-01 00:00:00', 'cat__VehicleIntroDate_1998-02-01 00:00:00', 'cat__VehicleIntroDate_1998-07-01 00:00:00', 'cat__VehicleIntroDate_1998-11-01 00:00:00', 'cat__VehicleIntroDate_1999-03-01 00:00:00', 'cat__VehicleIntroDate_1999-05-01 00:00:00', 'cat__VehicleIntroDate_1999-06-01 00:00:00', 'cat__VehicleIntroDate_1999-09-01 00:00:00', 'cat__VehicleIntroDate_1999-11-01 00:00:00', 'cat__VehicleIntroDate_1999-12-01 00:00:00', 'cat__VehicleIntroDate_2000-03-01 00:00:00', 'cat__VehicleIntroDate_2000-05-01 00:00:00', 'cat__VehicleIntroDate_2000-06-01 00:00:00', 'cat__VehicleIntroDate_2000-09-01 00:00:00', 'cat__VehicleIntroDate_2000-10-01 00:00:00', 'cat__VehicleIntroDate_2001-03-01 00:00:00', 'cat__VehicleIntroDate_2001-06-01 00:00:00', 'cat__VehicleIntroDate_2001-08-01 00:00:00', 'cat__VehicleIntroDate_2001-10-01 00:00:00', 'cat__VehicleIntroDate_2002-01-01 00:00:00', 'cat__VehicleIntroDate_2002-03-01 00:00:00', 'cat__VehicleIntroDate_2002-06-01 00:00:00', 'cat__VehicleIntroDate_2002-07-01 00:00:00', 'cat__VehicleIntroDate_2002-08-01 00:00:00', 'cat__VehicleIntroDate_2002-09-01 00:00:00', 'cat__VehicleIntroDate_2003-01-01 00:00:00', 'cat__VehicleIntroDate_2003-02-01 00:00:00', 'cat__VehicleIntroDate_2003-03-01 00:00:00', 'cat__VehicleIntroDate_2003-05-01 00:00:00', 'cat__VehicleIntroDate_2003-06-01 00:00:00', 'cat__VehicleIntroDate_2003-07-01 00:00:00', 'cat__VehicleIntroDate_2003-08-01 00:00:00', 'cat__VehicleIntroDate_2003-11-01 00:00:00', 'cat__VehicleIntroDate_2004-01-01 00:00:00', 'cat__VehicleIntroDate_2004-02-01 00:00:00', 'cat__VehicleIntroDate_2004-03-01 00:00:00', 'cat__VehicleIntroDate_2004-04-01 00:00:00', 'cat__VehicleIntroDate_2004-05-01 00:00:00', 'cat__VehicleIntroDate_2004-07-01 00:00:00', 'cat__VehicleIntroDate_2004-08-01 00:00:00', 'cat__VehicleIntroDate_2004-10-01 00:00:00', 'cat__VehicleIntroDate_2004-11-01 00:00:00', 'cat__VehicleIntroDate_2005-03-01 00:00:00', 'cat__VehicleIntroDate_2005-04-01 00:00:00', 'cat__VehicleIntroDate_2005-05-01 00:00:00', 'cat__VehicleIntroDate_2005-06-01 00:00:00', 'cat__VehicleIntroDate_2005-07-01 00:00:00', 'cat__VehicleIntroDate_2005-08-01 00:00:00', 'cat__VehicleIntroDate_2005-10-01 00:00:00', 'cat__VehicleIntroDate_2006-01-01 00:00:00', 'cat__VehicleIntroDate_2006-02-01 00:00:00', 'cat__VehicleIntroDate_2006-03-01 00:00:00', 'cat__VehicleIntroDate_2006-04-01 00:00:00', 'cat__VehicleIntroDate_2006-05-01 00:00:00', 'cat__VehicleIntroDate_2006-07-01 00:00:00', 'cat__VehicleIntroDate_2006-08-01 00:00:00', 'cat__VehicleIntroDate_2006-10-01 00:00:00', 'cat__VehicleIntroDate_2006-11-01 00:00:00', 'cat__VehicleIntroDate_2007-01-01 00:00:00', 'cat__VehicleIntroDate_2007-03-01 00:00:00', 'cat__VehicleIntroDate_2007-04-01 00:00:00', 'cat__VehicleIntroDate_2007-05-01 00:00:00', 'cat__VehicleIntroDate_2007-06-01 00:00:00', 'cat__VehicleIntroDate_2007-07-01 00:00:00', 'cat__VehicleIntroDate_2007-08-01 00:00:00', 'cat__VehicleIntroDate_2007-09-01 00:00:00', 'cat__VehicleIntroDate_2007-10-01 00:00:00', 'cat__VehicleIntroDate_2007-11-01 00:00:00', 'cat__VehicleIntroDate_2008-03-01 00:00:00', 'cat__VehicleIntroDate_2008-04-01 00:00:00', 'cat__VehicleIntroDate_2008-05-01 00:00:00', 'cat__VehicleIntroDate_2008-08-01 00:00:00', 'cat__VehicleIntroDate_2008-09-01 00:00:00', 'cat__VehicleIntroDate_2008-10-01 00:00:00', 'cat__VehicleIntroDate_2008-11-01 00:00:00', 'cat__VehicleIntroDate_2008-12-01 00:00:00', 'cat__VehicleIntroDate_2009-01-01 00:00:00', 'cat__VehicleIntroDate_2009-02-01 00:00:00', 'cat__VehicleIntroDate_2009-03-01 00:00:00', 'cat__VehicleIntroDate_2009-05-01 00:00:00', 'cat__VehicleIntroDate_2009-06-01 00:00:00', 'cat__VehicleIntroDate_2009-07-01 00:00:00', 'cat__VehicleIntroDate_2009-08-01 00:00:00', 'cat__VehicleIntroDate_2009-09-01 00:00:00', 'cat__VehicleIntroDate_2009-10-01 00:00:00', 'cat__VehicleIntroDate_2009-12-01 00:00:00', 'cat__VehicleIntroDate_2010-01-01 00:00:00', 'cat__VehicleIntroDate_2010-02-01 00:00:00', 'cat__VehicleIntroDate_2010-03-01 00:00:00', 'cat__VehicleIntroDate_2010-05-01 00:00:00', 'cat__VehicleIntroDate_2010-06-01 00:00:00', 'cat__VehicleIntroDate_2010-07-01 00:00:00', 'cat__VehicleIntroDate_2010-08-01 00:00:00', 'cat__VehicleIntroDate_2010-09-01 00:00:00', 'cat__VehicleIntroDate_2010-10-01 00:00:00', 'cat__VehicleIntroDate_2010-11-01 00:00:00', 'cat__VehicleIntroDate_2010-12-01 00:00:00', 'cat__VehicleIntroDate_2011-01-01 00:00:00', 'cat__VehicleIntroDate_2011-02-01 00:00:00', 'cat__VehicleIntroDate_2011-03-01 00:00:00', 'cat__VehicleIntroDate_2011-04-01 00:00:00', 'cat__VehicleIntroDate_2011-05-01 00:00:00', 'cat__VehicleIntroDate_2011-06-01 00:00:00', 'cat__VehicleIntroDate_2011-07-01 00:00:00', 'cat__VehicleIntroDate_2011-08-01 00:00:00', 'cat__VehicleIntroDate_2011-10-01 00:00:00', 'cat__VehicleIntroDate_2011-11-01 00:00:00', 'cat__VehicleIntroDate_2011-12-01 00:00:00', 'cat__VehicleIntroDate_2012-01-01 00:00:00', 'cat__VehicleIntroDate_2012-03-01 00:00:00', 'cat__VehicleIntroDate_2012-04-01 00:00:00', 'cat__VehicleIntroDate_2012-05-01 00:00:00', 'cat__VehicleIntroDate_2012-07-01 00:00:00', 'cat__VehicleIntroDate_2012-08-01 00:00:00', 'cat__VehicleIntroDate_2012-09-01 00:00:00', 'cat__VehicleIntroDate_2012-12-01 00:00:00', 'cat__VehicleIntroDate_2013-01-01 00:00:00', 'cat__VehicleIntroDate_2013-02-01 00:00:00', 'cat__VehicleIntroDate_2013-03-01 00:00:00', 'cat__VehicleIntroDate_2013-04-01 00:00:00', 'cat__VehicleIntroDate_2013-05-01 00:00:00', 'cat__VehicleIntroDate_2013-06-01 00:00:00', 'cat__VehicleIntroDate_2013-08-01 00:00:00', 'cat__VehicleIntroDate_2013-09-01 00:00:00', 'cat__VehicleIntroDate_2013-10-01 00:00:00', 'cat__VehicleIntroDate_2013-12-01 00:00:00', 'cat__VehicleIntroDate_2014-02-01 00:00:00', 'cat__VehicleIntroDate_2014-04-01 00:00:00', 'cat__VehicleIntroDate_2014-05-01 00:00:00', 'cat__VehicleIntroDate_2014-06-01 00:00:00', 'cat__VehicleIntroDate_2014-08-01 00:00:00', 'cat__VehicleIntroDate_2014-09-01 00:00:00', 'cat__VehicleIntroDate_Not specified', 'cat__AlarmImmobiliser_No', 'cat__AlarmImmobiliser_Yes', 'cat__TrackingDevice_No', 'cat__TrackingDevice_Yes', 'cat__NewVehicle_Less than 6 months', 'cat__NewVehicle_More than 6 months', 'cat__NewVehicle_Not specified', 'cat__WrittenOff_No', 'cat__WrittenOff_Not specified', 'cat__WrittenOff_Yes', 'cat__Rebuilt_No', 'cat__Rebuilt_Not specified', 'cat__Rebuilt_Yes', 'cat__Converted_No', 'cat__Converted_Not specified', 'cat__Converted_Yes', 'cat__CrossBorder_No', 'cat__CrossBorder_Not specified', 'cat__TermFrequency_Annual', 'cat__TermFrequency_Monthly', 'cat__ExcessSelected_Mobility - Factory Sound', 'cat__ExcessSelected_Mobility - Metered Taxis - R2000', 'cat__ExcessSelected_Mobility - Metered Taxis - R5000', 'cat__ExcessSelected_Mobility - R250', 'cat__ExcessSelected_Mobility - Taxi with value less than R100 000 - R3 000', 'cat__ExcessSelected_Mobility - Taxi with value more than R100 000 - R10 000', 'cat__ExcessSelected_Mobility - Taxi with value more than R100 000 - R5 000', 'cat__ExcessSelected_Mobility - Taxi with value more than R100 000 - R5 000 (April)', 'cat__ExcessSelected_Mobility - Taxi with value more than R100 000 - R7 500', 'cat__ExcessSelected_Mobility - Trailers', 'cat__ExcessSelected_Mobility - Windscreen', 'cat__ExcessSelected_Mobility - Windscreen (Feb2015)', 'cat__ExcessSelected_No excess', 'cat__CoverCategory_Accidental Death', 'cat__CoverCategory_Asset Value Preserver', 'cat__CoverCategory_Baggage/Luggage', 'cat__CoverCategory_Basic Excess Waiver', 'cat__CoverCategory_Basic Excess Waiver (2015)', 'cat__CoverCategory_Cash Takings', 'cat__CoverCategory_Cleaning and Removal of Accident Debris', 'cat__CoverCategory_Credit Protection', 'cat__CoverCategory_Deposit Cover', 'cat__CoverCategory_Emergency Charges', 'cat__CoverCategory_Factory Fitted Sound and Other Electronic Equipment', 'cat__CoverCategory_Income Protector', 'cat__CoverCategory_Income Protector (2015)', 'cat__CoverCategory_Keys and Alarms', 'cat__CoverCategory_Own Damage ', 'cat__CoverCategory_Own Damage.', 'cat__CoverCategory_Own damage', 'cat__CoverCategory_Passenger Liability', 'cat__CoverCategory_Roadside Assistance', 'cat__CoverCategory_Signage and Vehicle Wraps', 'cat__CoverCategory_Standalone passenger liability', 'cat__CoverCategory_Third Party', 'cat__CoverCategory_Third Party Only', 'cat__CoverCategory_Trailer', 'cat__CoverCategory_Vehicle over R100 000', 'cat__CoverCategory_Vehicle under R100 000', 'cat__CoverCategory_Windscreen', 'cat__CoverCategory_Windscreen (2015)', 'cat__CoverType_Accidental Death', 'cat__CoverType_Asset Value Preserver', 'cat__CoverType_Baggage/Luggage', 'cat__CoverType_Basic Excess Waiver', 'cat__CoverType_Cash Takings', 'cat__CoverType_Cleaning and Removal of Accident Debris', 'cat__CoverType_Credit Protection', 'cat__CoverType_Deposit Cover', 'cat__CoverType_Emergency Charges', 'cat__CoverType_Factory Fitted Sound and Other Electronic Equipment', 'cat__CoverType_Fire and Theft', 'cat__CoverType_Income Protector', 'cat__CoverType_Keys and Alarms', 'cat__CoverType_Own Damage', 'cat__CoverType_Passenger Liability', 'cat__CoverType_Roadside Assistance', 'cat__CoverType_Signage and Vehicle Wraps', 'cat__CoverType_Standalone passenger liability', 'cat__CoverType_Third Party', 'cat__CoverType_Third Party Only', 'cat__CoverType_Trailer', 'cat__CoverType_Windscreen', 'cat__CoverGroup_Accidental Death', 'cat__CoverGroup_Asset Value Preserver', 'cat__CoverGroup_Baggage/Luggage', 'cat__CoverGroup_Basic Excess Waiver', 'cat__CoverGroup_Cash Takings', 'cat__CoverGroup_Comprehensive - Taxi', 'cat__CoverGroup_Credit Protection', 'cat__CoverGroup_Deposit Cover', 'cat__CoverGroup_Fire,Theft and Third Party', 'cat__CoverGroup_Income Protector', 'cat__CoverGroup_Motor Comprehensive', 'cat__CoverGroup_Standalone passenger liability', 'cat__CoverGroup_Third Party Only', 'cat__CoverGroup_Trailer', 'cat__Section_Credit Protection', 'cat__Section_Motor Comprehensive', 'cat__Section_Optional Extended Covers', 'cat__Section_Standalone passenger liability', 'cat__Section_Third party or third party, fire and theft only', 'cat__Product_Bridge Taxi Finance: Monthly', 'cat__Product_Mobility Commercial Cover: Monthly', 'cat__Product_Mobility Metered Taxis: Monthly', 'cat__Product_Standalone Passenger Liability', 'cat__StatutoryClass_Commercial', 'cat__StatutoryRiskType_IFRS Constant']\n"
     ]
    }
   ],
   "source": [
    "# Identify numeric and categorical features\n",
    "numeric_features = data.select_dtypes(include=np.number).columns.tolist()\n",
    "numeric_features.remove('TotalClaims')  # Exclude the target variable\n",
    "\n",
    "categorical_features = [col for col in feature_columns if col not in numeric_features]\n",
    "\n",
    "# Prepare the data\n",
    "try:\n",
    "    X_processed, y, transformers, feature_names = prepare_data(\n",
    "        data=data,\n",
    "        numeric_features=numeric_features,\n",
    "        categorical_features=categorical_features,\n",
    "        target_variable=target_variable\n",
    "    )\n",
    "    print(\"Data preparation completed successfully.\")\n",
    "    print(f\"Processed Features Shape: {X_processed.shape}\")\n",
    "    print(f\"Target Shape: {y.shape}\")\n",
    "    print(f\"Feature Names: {feature_names}\")\n",
    "except Exception as e:\n",
    "    print(f\"Error during data preparation: {e}\")\n",
    "    raise"
   ]
  },
  {
   "cell_type": "code",
   "execution_count": 10,
   "metadata": {},
   "outputs": [
    {
     "name": "stdout",
     "output_type": "stream",
     "text": [
      "Data splitting completed successfully.\n",
      "Training Features Shape: (800078, 897)\n",
      "Testing Features Shape: (200020, 897)\n",
      "Training Target Shape: (800078,)\n",
      "Testing Target Shape: (200020,)\n",
      "Data splitting completed successfully.\n",
      "Training Features Shape: (800078, 897)\n",
      "Testing Features Shape: (200020, 897)\n",
      "Training Target Shape: (800078,)\n",
      "Testing Target Shape: (200020,)\n"
     ]
    }
   ],
   "source": [
    "from sklearn.model_selection import train_test_split\n",
    "\n",
    "# Split the data into training and testing sets\n",
    "try:\n",
    "    X_train, X_test, y_train, y_test = train_test_split(\n",
    "        X_processed, y, test_size=0.2, random_state=42\n",
    "    )\n",
    "    print(\"Data splitting completed successfully.\")\n",
    "    print(f\"Training Features Shape: {X_train.shape}\")\n",
    "    print(f\"Testing Features Shape: {X_test.shape}\")\n",
    "    print(f\"Training Target Shape: {y_train.shape}\")\n",
    "    print(f\"Testing Target Shape: {y_test.shape}\")\n",
    "except Exception as e:\n",
    "    print(f\"Error during data splitting: {e}\")\n",
    "    raise\n",
    "\n",
    "# Split the data into training and testing sets\n",
    "try:\n",
    "    X_train, X_test, y_train, y_test = train_test_split(\n",
    "        X_processed, y, test_size=0.2, random_state=42\n",
    "    )\n",
    "    print(\"Data splitting completed successfully.\")\n",
    "    print(f\"Training Features Shape: {X_train.shape}\")\n",
    "    print(f\"Testing Features Shape: {X_test.shape}\")\n",
    "    print(f\"Training Target Shape: {y_train.shape}\")\n",
    "    print(f\"Testing Target Shape: {y_test.shape}\")\n",
    "except Exception as e:\n",
    "    print(f\"Error during data splitting: {e}\")\n",
    "    raise\n"
   ]
  },
  {
   "cell_type": "code",
   "execution_count": 11,
   "metadata": {},
   "outputs": [
    {
     "name": "stdout",
     "output_type": "stream",
     "text": [
      "Model training completed successfully.\n",
      "Predictions: [-30.34851925  11.44561392  12.91551298 ...  -4.4342577   74.65527305\n",
      " -51.87070316]\n"
     ]
    }
   ],
   "source": [
    "\n",
    "# Initialize the model\n",
    "insurance_model = initialize_model(model_type='linear_regression')\n",
    "\n",
    "# Train the model\n",
    "insurance_model.train(X_train, y_train)\n",
    "print(\"Model training completed successfully.\")\n",
    "\n",
    "# Make predictions\n",
    "predictions = insurance_model.predict(X_test)\n",
    "print(\"Predictions:\", predictions)\n"
   ]
  },
  {
   "cell_type": "code",
   "execution_count": 12,
   "metadata": {},
   "outputs": [],
   "source": [
    "# Get predictions from the trained model\n",
    "y_pred = insurance_model.model.predict(X_test)\n"
   ]
  }
 ],
 "metadata": {
  "kernelspec": {
   "display_name": "venv",
   "language": "python",
   "name": "python3"
  },
  "language_info": {
   "codemirror_mode": {
    "name": "ipython",
    "version": 3
   },
   "file_extension": ".py",
   "mimetype": "text/x-python",
   "name": "python",
   "nbconvert_exporter": "python",
   "pygments_lexer": "ipython3",
   "version": "3.12.8"
  }
 },
 "nbformat": 4,
 "nbformat_minor": 2
}
