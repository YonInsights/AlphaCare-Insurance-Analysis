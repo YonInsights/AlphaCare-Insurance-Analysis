{
 "cells": [
  {
   "cell_type": "code",
   "execution_count": 3,
   "metadata": {},
   "outputs": [],
   "source": [
    "# Import necessary libraries\n",
    "import os\n",
    "import sys\n",
    "import pandas as pd\n",
    "# Add the scripts folder to the Python path\n",
    "sys.path.append(os.path.abspath(\"../scripts\"))"
   ]
  },
  {
   "cell_type": "code",
   "execution_count": 4,
   "metadata": {},
   "outputs": [],
   "source": [
    "# Import the load_data function from the data_loader module\n",
    "from data_loader import load_data\n",
    "from data_preprocessing import convert_data_types"
   ]
  },
  {
   "cell_type": "code",
   "execution_count": 5,
   "metadata": {},
   "outputs": [
    {
     "name": "stderr",
     "output_type": "stream",
     "text": [
      "C:\\Users\\Yoni\\AppData\\Local\\Temp\\ipykernel_17352\\317629331.py:5: DtypeWarning: Columns (32,37) have mixed types. Specify dtype option on import or set low_memory=False.\n",
      "  data = pd.read_csv(file_path, delimiter='|')\n"
     ]
    },
    {
     "name": "stdout",
     "output_type": "stream",
     "text": [
      "   UnderwrittenCoverID  PolicyID     TransactionMonth  IsVATRegistered  \\\n",
      "0               145249     12827  2015-03-01 00:00:00             True   \n",
      "1               145249     12827  2015-05-01 00:00:00             True   \n",
      "2               145249     12827  2015-07-01 00:00:00             True   \n",
      "3               145255     12827  2015-05-01 00:00:00             True   \n",
      "4               145255     12827  2015-07-01 00:00:00             True   \n",
      "\n",
      "  Citizenship          LegalType Title Language                 Bank  \\\n",
      "0              Close Corporation    Mr  English  First National Bank   \n",
      "1              Close Corporation    Mr  English  First National Bank   \n",
      "2              Close Corporation    Mr  English  First National Bank   \n",
      "3              Close Corporation    Mr  English  First National Bank   \n",
      "4              Close Corporation    Mr  English  First National Bank   \n",
      "\n",
      "       AccountType  ...                    ExcessSelected CoverCategory  \\\n",
      "0  Current account  ...             Mobility - Windscreen    Windscreen   \n",
      "1  Current account  ...             Mobility - Windscreen    Windscreen   \n",
      "2  Current account  ...             Mobility - Windscreen    Windscreen   \n",
      "3  Current account  ...  Mobility - Metered Taxis - R2000    Own damage   \n",
      "4  Current account  ...  Mobility - Metered Taxis - R2000    Own damage   \n",
      "\n",
      "    CoverType            CoverGroup              Section  \\\n",
      "0  Windscreen  Comprehensive - Taxi  Motor Comprehensive   \n",
      "1  Windscreen  Comprehensive - Taxi  Motor Comprehensive   \n",
      "2  Windscreen  Comprehensive - Taxi  Motor Comprehensive   \n",
      "3  Own Damage  Comprehensive - Taxi  Motor Comprehensive   \n",
      "4  Own Damage  Comprehensive - Taxi  Motor Comprehensive   \n",
      "\n",
      "                           Product StatutoryClass StatutoryRiskType  \\\n",
      "0  Mobility Metered Taxis: Monthly     Commercial     IFRS Constant   \n",
      "1  Mobility Metered Taxis: Monthly     Commercial     IFRS Constant   \n",
      "2  Mobility Metered Taxis: Monthly     Commercial     IFRS Constant   \n",
      "3  Mobility Metered Taxis: Monthly     Commercial     IFRS Constant   \n",
      "4  Mobility Metered Taxis: Monthly     Commercial     IFRS Constant   \n",
      "\n",
      "   TotalPremium TotalClaims  \n",
      "0     21.929825         0.0  \n",
      "1     21.929825         0.0  \n",
      "2      0.000000         0.0  \n",
      "3    512.848070         0.0  \n",
      "4      0.000000         0.0  \n",
      "\n",
      "[5 rows x 52 columns]\n"
     ]
    }
   ],
   "source": [
    "\n",
    "# Define file path\n",
    "file_path = 'D:/Kifya_training/Week 3/Week 3/AlphaCare-Insurance-Analysis/notebooks/data/MachineLearningRating_v3.txt'\n",
    "\n",
    "# Load data using the custom function\n",
    "data = pd.read_csv(file_path, delimiter='|')\n",
    "\n",
    "# Display the first few rows of the data\n",
    "print(data.head())"
   ]
  },
  {
   "cell_type": "code",
   "execution_count": 6,
   "metadata": {},
   "outputs": [
    {
     "name": "stdout",
     "output_type": "stream",
     "text": [
      "UnderwrittenCoverID           int64\n",
      "PolicyID                      int64\n",
      "TransactionMonth             object\n",
      "IsVATRegistered                bool\n",
      "Citizenship                  object\n",
      "LegalType                    object\n",
      "Title                        object\n",
      "Language                     object\n",
      "Bank                         object\n",
      "AccountType                  object\n",
      "MaritalStatus                object\n",
      "Gender                       object\n",
      "Country                      object\n",
      "Province                     object\n",
      "PostalCode                    int64\n",
      "MainCrestaZone               object\n",
      "SubCrestaZone                object\n",
      "ItemType                     object\n",
      "mmcode                      float64\n",
      "VehicleType                  object\n",
      "RegistrationYear              int64\n",
      "make                         object\n",
      "Model                        object\n",
      "Cylinders                   float64\n",
      "cubiccapacity               float64\n",
      "kilowatts                   float64\n",
      "bodytype                     object\n",
      "NumberOfDoors               float64\n",
      "VehicleIntroDate             object\n",
      "CustomValueEstimate         float64\n",
      "AlarmImmobiliser             object\n",
      "TrackingDevice               object\n",
      "CapitalOutstanding           object\n",
      "NewVehicle                   object\n",
      "WrittenOff                   object\n",
      "Rebuilt                      object\n",
      "Converted                    object\n",
      "CrossBorder                  object\n",
      "NumberOfVehiclesInFleet     float64\n",
      "SumInsured                  float64\n",
      "TermFrequency                object\n",
      "CalculatedPremiumPerTerm    float64\n",
      "ExcessSelected               object\n",
      "CoverCategory                object\n",
      "CoverType                    object\n",
      "CoverGroup                   object\n",
      "Section                      object\n",
      "Product                      object\n",
      "StatutoryClass               object\n",
      "StatutoryRiskType            object\n",
      "TotalPremium                float64\n",
      "TotalClaims                 float64\n",
      "dtype: object\n"
     ]
    }
   ],
   "source": [
    "# Check the data types\n",
    "print(data.dtypes)"
   ]
  },
  {
   "cell_type": "code",
   "execution_count": 7,
   "metadata": {},
   "outputs": [
    {
     "name": "stdout",
     "output_type": "stream",
     "text": [
      "UnderwrittenCoverID                  int64\n",
      "PolicyID                             int64\n",
      "TransactionMonth            datetime64[ns]\n",
      "IsVATRegistered                       bool\n",
      "Citizenship                         object\n",
      "LegalType                           object\n",
      "Title                               object\n",
      "Language                            object\n",
      "Bank                                object\n",
      "AccountType                         object\n",
      "MaritalStatus                       object\n",
      "Gender                              object\n",
      "Country                             object\n",
      "Province                            object\n",
      "PostalCode                           int64\n",
      "MainCrestaZone                      object\n",
      "SubCrestaZone                       object\n",
      "ItemType                            object\n",
      "mmcode                             float64\n",
      "VehicleType                         object\n",
      "RegistrationYear                     int64\n",
      "make                                object\n",
      "Model                               object\n",
      "Cylinders                          float64\n",
      "cubiccapacity                      float64\n",
      "kilowatts                          float64\n",
      "bodytype                            object\n",
      "NumberOfDoors                      float64\n",
      "VehicleIntroDate            datetime64[ns]\n",
      "CustomValueEstimate                float64\n",
      "AlarmImmobiliser                    object\n",
      "TrackingDevice                      object\n",
      "CapitalOutstanding                category\n",
      "NewVehicle                        category\n",
      "WrittenOff                        category\n",
      "Rebuilt                           category\n",
      "Converted                         category\n",
      "CrossBorder                       category\n",
      "NumberOfVehiclesInFleet            float64\n",
      "SumInsured                         float64\n",
      "TermFrequency                       object\n",
      "CalculatedPremiumPerTerm           float64\n",
      "ExcessSelected                      object\n",
      "CoverCategory                       object\n",
      "CoverType                           object\n",
      "CoverGroup                          object\n",
      "Section                             object\n",
      "Product                             object\n",
      "StatutoryClass                      object\n",
      "StatutoryRiskType                   object\n",
      "TotalPremium                       float64\n",
      "TotalClaims                        float64\n",
      "dtype: object\n"
     ]
    }
   ],
   "source": [
    "# Define the column types to convert to\n",
    "column_types = {\n",
    "    'TransactionMonth': 'datetime64[ns]',\n",
    "    'VehicleIntroDate': 'datetime64[ns]',\n",
    "    'CapitalOutstanding': 'category',  # If the column contains specific categories, use category\n",
    "    'NewVehicle': 'category', \n",
    "    'WrittenOff': 'category', \n",
    "    'Rebuilt': 'category', \n",
    "    'Converted': 'category', \n",
    "    'CrossBorder': 'category', \n",
    "    'Cylinders': 'float64',\n",
    "    'cubiccapacity': 'float64',\n",
    "    'kilowatts': 'float64',\n",
    "    'NumberOfDoors': 'float64',\n",
    "    'NumberOfVehiclesInFleet': 'float64',\n",
    "    'SumInsured': 'float64',\n",
    "    'CalculatedPremiumPerTerm': 'float64',\n",
    "    'TotalPremium': 'float64',\n",
    "    'TotalClaims': 'float64',\n",
    "    'PostalCode': 'int64',\n",
    "    'PolicyID': 'int64',\n",
    "    'UnderwrittenCoverID': 'int64',\n",
    "}\n",
    "\n",
    "# Apply the conversion\n",
    "data = convert_data_types(data, column_types)\n",
    "\n",
    "# Check the updated data types\n",
    "print(data.dtypes)"
   ]
  },
  {
   "cell_type": "code",
   "execution_count": 8,
   "metadata": {},
   "outputs": [
    {
     "data": {
      "text/plain": [
       "Bank                        145961\n",
       "AccountType                  40232\n",
       "MaritalStatus                 8259\n",
       "Gender                        9536\n",
       "mmcode                         552\n",
       "VehicleType                    552\n",
       "make                           552\n",
       "Model                          552\n",
       "Cylinders                      552\n",
       "cubiccapacity                  552\n",
       "kilowatts                      552\n",
       "bodytype                       552\n",
       "NumberOfDoors                  552\n",
       "VehicleIntroDate               552\n",
       "CustomValueEstimate         779642\n",
       "CapitalOutstanding               2\n",
       "NewVehicle                  153295\n",
       "WrittenOff                  641901\n",
       "Rebuilt                     641901\n",
       "Converted                   641901\n",
       "CrossBorder                 999400\n",
       "NumberOfVehiclesInFleet    1000098\n",
       "dtype: int64"
      ]
     },
     "execution_count": 8,
     "metadata": {},
     "output_type": "execute_result"
    }
   ],
   "source": [
    "# Check for missing values in the dataset\n",
    "missing_values = data.isnull().sum()\n",
    "\n",
    "# Display columns with missing values\n",
    "missing_values[missing_values > 0]\n"
   ]
  },
  {
   "cell_type": "code",
   "execution_count": null,
   "metadata": {},
   "outputs": [],
   "source": [
    "#Handle Missing Values\n",
    "# Fill categorical columns with \"Not specified\"\n",
    "categorical_columns = ['Bank', 'AccountType', 'MaritalStatus', 'Gender', \n",
    "                       'VehicleType', 'make', 'Model', 'bodytype', 'VehicleIntroDate', \n",
    "                       'AlarmImmobiliser', 'TrackingDevice', 'NewVehicle', 'WrittenOff', \n",
    "                       'Rebuilt', 'Converted', 'CrossBorder', 'CoverCategory', \n",
    "                       'CoverType', 'CoverGroup', 'Section', 'Product', 'StatutoryClass', \n",
    "                       'StatutoryRiskType']\n",
    "\n",
    "data[categorical_columns] = data[categorical_columns].fillna('Not specified')"
   ]
  }
 ],
 "metadata": {
  "kernelspec": {
   "display_name": "venv",
   "language": "python",
   "name": "python3"
  },
  "language_info": {
   "codemirror_mode": {
    "name": "ipython",
    "version": 3
   },
   "file_extension": ".py",
   "mimetype": "text/x-python",
   "name": "python",
   "nbconvert_exporter": "python",
   "pygments_lexer": "ipython3",
   "version": "3.12.8"
  }
 },
 "nbformat": 4,
 "nbformat_minor": 2
}
