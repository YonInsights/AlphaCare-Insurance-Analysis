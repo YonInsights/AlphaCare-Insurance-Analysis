{
 "cells": [
  {
   "cell_type": "code",
   "execution_count": 5,
   "metadata": {},
   "outputs": [],
   "source": [
    "# Import necessary libraries\n",
    "import os\n",
    "import sys\n",
    "import pandas as pd\n",
    "# Add the scripts folder to the Python path\n",
    "sys.path.append(os.path.abspath(\"../scripts\"))"
   ]
  },
  {
   "cell_type": "code",
   "execution_count": 6,
   "metadata": {},
   "outputs": [],
   "source": [
    "# Import the load_data function from the data_loader module\n",
    "from data_loader import load_data"
   ]
  },
  {
   "cell_type": "code",
   "execution_count": 7,
   "metadata": {},
   "outputs": [
    {
     "name": "stderr",
     "output_type": "stream",
     "text": [
      "C:\\Users\\Yoni\\AppData\\Local\\Temp\\ipykernel_15144\\317629331.py:5: DtypeWarning: Columns (32,37) have mixed types. Specify dtype option on import or set low_memory=False.\n",
      "  data = pd.read_csv(file_path, delimiter='|')\n"
     ]
    },
    {
     "name": "stdout",
     "output_type": "stream",
     "text": [
      "   UnderwrittenCoverID  PolicyID     TransactionMonth  IsVATRegistered Citizenship          LegalType Title Language                 Bank      AccountType  MaritalStatus         Gender       Country Province  PostalCode MainCrestaZone SubCrestaZone          ItemType      mmcode        VehicleType  RegistrationYear           make  Model  Cylinders  cubiccapacity  kilowatts bodytype  NumberOfDoors VehicleIntroDate  CustomValueEstimate AlarmImmobiliser TrackingDevice CapitalOutstanding          NewVehicle WrittenOff Rebuilt Converted CrossBorder  NumberOfVehiclesInFleet  SumInsured TermFrequency  CalculatedPremiumPerTerm                    ExcessSelected CoverCategory   CoverType            CoverGroup              Section                          Product StatutoryClass StatutoryRiskType  TotalPremium  TotalClaims\n",
      "0               145249     12827  2015-03-01 00:00:00             True              Close Corporation    Mr  English  First National Bank  Current account  Not specified  Not specified  South Africa  Gauteng        1459      Rand East     Rand East  Mobility - Motor  44069150.0  Passenger Vehicle              2004  MERCEDES-BENZ  E 240        6.0         2597.0      130.0      S/D            4.0           6/2002             119300.0              Yes             No             119300  More than 6 months        NaN     NaN       NaN         NaN                      NaN        0.01       Monthly                   25.0000             Mobility - Windscreen    Windscreen  Windscreen  Comprehensive - Taxi  Motor Comprehensive  Mobility Metered Taxis: Monthly     Commercial     IFRS Constant     21.929825          0.0\n",
      "1               145249     12827  2015-05-01 00:00:00             True              Close Corporation    Mr  English  First National Bank  Current account  Not specified  Not specified  South Africa  Gauteng        1459      Rand East     Rand East  Mobility - Motor  44069150.0  Passenger Vehicle              2004  MERCEDES-BENZ  E 240        6.0         2597.0      130.0      S/D            4.0           6/2002             119300.0              Yes             No             119300  More than 6 months        NaN     NaN       NaN         NaN                      NaN        0.01       Monthly                   25.0000             Mobility - Windscreen    Windscreen  Windscreen  Comprehensive - Taxi  Motor Comprehensive  Mobility Metered Taxis: Monthly     Commercial     IFRS Constant     21.929825          0.0\n",
      "2               145249     12827  2015-07-01 00:00:00             True              Close Corporation    Mr  English  First National Bank  Current account  Not specified  Not specified  South Africa  Gauteng        1459      Rand East     Rand East  Mobility - Motor  44069150.0  Passenger Vehicle              2004  MERCEDES-BENZ  E 240        6.0         2597.0      130.0      S/D            4.0           6/2002             119300.0              Yes             No             119300  More than 6 months        NaN     NaN       NaN         NaN                      NaN        0.01       Monthly                   25.0000             Mobility - Windscreen    Windscreen  Windscreen  Comprehensive - Taxi  Motor Comprehensive  Mobility Metered Taxis: Monthly     Commercial     IFRS Constant      0.000000          0.0\n",
      "3               145255     12827  2015-05-01 00:00:00             True              Close Corporation    Mr  English  First National Bank  Current account  Not specified  Not specified  South Africa  Gauteng        1459      Rand East     Rand East  Mobility - Motor  44069150.0  Passenger Vehicle              2004  MERCEDES-BENZ  E 240        6.0         2597.0      130.0      S/D            4.0           6/2002             119300.0              Yes             No             119300  More than 6 months        NaN     NaN       NaN         NaN                      NaN   119300.00       Monthly                  584.6468  Mobility - Metered Taxis - R2000    Own damage  Own Damage  Comprehensive - Taxi  Motor Comprehensive  Mobility Metered Taxis: Monthly     Commercial     IFRS Constant    512.848070          0.0\n",
      "4               145255     12827  2015-07-01 00:00:00             True              Close Corporation    Mr  English  First National Bank  Current account  Not specified  Not specified  South Africa  Gauteng        1459      Rand East     Rand East  Mobility - Motor  44069150.0  Passenger Vehicle              2004  MERCEDES-BENZ  E 240        6.0         2597.0      130.0      S/D            4.0           6/2002             119300.0              Yes             No             119300  More than 6 months        NaN     NaN       NaN         NaN                      NaN   119300.00       Monthly                  584.6468  Mobility - Metered Taxis - R2000    Own damage  Own Damage  Comprehensive - Taxi  Motor Comprehensive  Mobility Metered Taxis: Monthly     Commercial     IFRS Constant      0.000000          0.0\n"
     ]
    }
   ],
   "source": [
    "\n",
    "# Define file path\n",
    "file_path = 'D:/Kifya_training/Week 3/Week 3/AlphaCare-Insurance-Analysis/notebooks/data/MachineLearningRating_v3.txt'\n",
    "\n",
    "# Load data using the custom function\n",
    "data = pd.read_csv(file_path, delimiter='|')\n",
    "\n",
    "# Display the first few rows of the data\n",
    "print(data.head())"
   ]
  }
 ],
 "metadata": {
  "kernelspec": {
   "display_name": "venv",
   "language": "python",
   "name": "python3"
  },
  "language_info": {
   "codemirror_mode": {
    "name": "ipython",
    "version": 3
   },
   "file_extension": ".py",
   "mimetype": "text/x-python",
   "name": "python",
   "nbconvert_exporter": "python",
   "pygments_lexer": "ipython3",
   "version": "3.12.8"
  }
 },
 "nbformat": 4,
 "nbformat_minor": 2
}
